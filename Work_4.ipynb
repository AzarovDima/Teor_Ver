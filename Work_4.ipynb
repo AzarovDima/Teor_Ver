{
 "cells": [
  {
   "cell_type": "markdown",
   "id": "e07ce23d",
   "metadata": {},
   "source": [
    "### 1. Случайная непрерывная величина A имеет равномерное распределение на промежутке (200, 800]. Найдите ее среднее значение и дисперсию."
   ]
  },
  {
   "cell_type": "code",
   "execution_count": 1,
   "id": "5364e00e",
   "metadata": {},
   "outputs": [
    {
     "name": "stdout",
     "output_type": "stream",
     "text": [
      "Среднее значение: М(А) = 500.0\n",
      "Дисперсия: D(A) = {((b-a)**2)/12}\n"
     ]
    }
   ],
   "source": [
    "a = 200\n",
    "b = 800\n",
    "print(f'Среднее значение: М(А) = {(a+b)/2}\\n'\n",
    "'Дисперсия: D(A) = {((b-a)**2)/12}')"
   ]
  },
  {
   "cell_type": "markdown",
   "id": "5ac79207",
   "metadata": {},
   "source": [
    "### 2. О случайной непрерывной равномерно распределенной величине B известно, что ее дисперсия равна 0.2. Можно ли найти правую границу величины B и ее среднее значение зная, что левая граница равна 0.5? Если да, найдите ее."
   ]
  },
  {
   "cell_type": "code",
   "execution_count": 2,
   "id": "45d7887e",
   "metadata": {},
   "outputs": [
    {
     "name": "stdout",
     "output_type": "stream",
     "text": [
      "Прав. граница величины В = 2.049193338482967\n",
      "Среднее значение В на промежутке (0.5; 2.049193338482967) M(B) = 1.2745966692414834\n"
     ]
    }
   ],
   "source": [
    "a = 0.5\n",
    "d = 0.2\n",
    "b = a+(d*12)**(1/2)\n",
    "print(f'Прав. граница величины В = {b}\\n'\n",
    "      f'Среднее значение В на промежутке ({a}; {b}) M(B) = {(b+0.5)/2}')"
   ]
  },
  {
   "cell_type": "markdown",
   "id": "911b05d6",
   "metadata": {},
   "source": [
    "### 3. Непрерывная случайная величина X распределена нормально и задана плотностью распределения \n",
    "f(x) = (1 / (4 * sqrt(2pi))) * exp((-(x+2)**2) / 32)"
   ]
  },
  {
   "cell_type": "code",
   "execution_count": 3,
   "id": "0b887f24",
   "metadata": {},
   "outputs": [
    {
     "name": "stdout",
     "output_type": "stream",
     "text": [
      "M(x) = a = -2 \n",
      "std(x) = 4 \n",
      "D(x) = std(x)^2 = 16 \n",
      "\n"
     ]
    }
   ],
   "source": [
    "print('M(x) = a = -2 \\n'\n",
    "      'std(x) = 4 \\n'\n",
    "      'D(x) = std(x)^2 = 16 \\n')"
   ]
  },
  {
   "cell_type": "markdown",
   "id": "fa68b27b",
   "metadata": {},
   "source": [
    "### 4 Условие: Рост взрослого населения города X имеет нормальное распределение. Причем, средний рост равен 174 см, а среднее квадратичное отклонение равно 8 см. Какова вероятность того, что случайным образом выбранный взрослый человек имеет рост:\n",
    "- а. больше 182 см\n",
    "- б. больше 190 см\n",
    "- в. от 166 см до 190 см\n",
    "- г. от 166 см до 182 см\n",
    "- д. от 158 см до 190 см\n",
    "- е. не выше 150 см или не ниже 190 см\n",
    "- ё. не выше 150 см или не ниже 198 см\n",
    "- ж. ниже 166 см."
   ]
  },
  {
   "cell_type": "code",
   "execution_count": 4,
   "id": "0dab1377",
   "metadata": {},
   "outputs": [
    {
     "name": "stdout",
     "output_type": "stream",
     "text": [
      "* Вероятность роста больше 182 см = 0.15865525393145707\n",
      "* Вероятность роста больше 190 см = 0.02275013194817921\n",
      "* Вероятность роста от 166 см до 190 см = 0.8185946141203637\n",
      "* Вероятность роста от 166 см до 182 см = 0.6826894921370859\n",
      "* Вероятность роста от 158 см до 190 см = 0.9544997361036416\n",
      "* Вероятность роста не выше 150 см или не ниже 190 см = 0.0241000299798092\n",
      "* Вероятность роста не выше 150 см или не ниже 198 см = 0.002699796063260096\n",
      "* Вероятность роста ниже 166 см = 0.15865525393145707\n"
     ]
    }
   ],
   "source": [
    "from scipy.stats import norm\n",
    "mu = 174\n",
    "sigma = 8\n",
    "\n",
    "a = 182\n",
    "pa = 1 - norm.cdf(a, mu, sigma)\n",
    "print(f'* Вероятность роста больше {a} см = {pa}')\n",
    "\n",
    "b = 190\n",
    "pb = 1-norm.cdf(b, mu, sigma)\n",
    "print(f'* Вероятность роста больше {b} см = {pb}')\n",
    "\n",
    "v1, v2 = 166, 190\n",
    "pv = norm.cdf(v2, mu, sigma)-norm.cdf(v1, mu, sigma)\n",
    "print(f'* Вероятность роста от {v1} см до {v2} см = {pv}')\n",
    "\n",
    "g1, g2 = 166, 182\n",
    "pg = norm.cdf(g2, mu, sigma)-norm.cdf(g1, mu, sigma)\n",
    "print(f'* Вероятность роста от {g1} см до {g2} см = {pg}')\n",
    "\n",
    "d1, d2 = 158, 190\n",
    "pd = norm.cdf(d2, mu, sigma)-norm.cdf(d1, mu, sigma)\n",
    "print(f'* Вероятность роста от {d1} см до {d2} см = {pd}')\n",
    "\n",
    "e1, e2 = 150, 190\n",
    "pe = norm.cdf(e1, mu, sigma)+1-norm.cdf(e2, mu, sigma)\n",
    "print(f'* Вероятность роста не выше {e1} см или не ниже {e2} см = {pe}')\n",
    "\n",
    "yo1, yo2 = 150, 198\n",
    "pyo = norm.cdf(yo1, mu, sigma)+1-norm.cdf(yo2, mu, sigma)\n",
    "print(\n",
    "    f'* Вероятность роста не выше {yo1} см или не ниже {yo2} см = {pyo}')\n",
    "zh = 166\n",
    "pzh = norm.cdf(zh, mu, sigma)\n",
    "print(f'* Вероятность роста ниже {zh} см = {pzh}')"
   ]
  },
  {
   "cell_type": "markdown",
   "id": "541c6a03",
   "metadata": {},
   "source": [
    "### 5. На сколько сигм (средних квадратичных отклонений) отклоняется рост человека, равный 190 см, от математического ожидания роста в популяции, в которой M(X) = 178 см и D(X) = 25 кв.см?"
   ]
  },
  {
   "cell_type": "code",
   "execution_count": 5,
   "id": "43fb128f",
   "metadata": {},
   "outputs": [
    {
     "name": "stdout",
     "output_type": "stream",
     "text": [
      "Рост людей равный 190 отклоняется от математического ожидания роста в популяции на 2.4 сигм.\n"
     ]
    }
   ],
   "source": [
    "from math import sqrt\n",
    "\n",
    "growth = 190\n",
    "mx = 178\n",
    "dx = 25\n",
    "std = sqrt(dx)\n",
    "# print (std)\n",
    "sigma = (growth-mx)/std\n",
    "# print(sigma)\n",
    "print(\n",
    "    f'Рост людей равный {growth} отклоняется от математического ожидания роста в популяции на {sigma} сигм.')"
   ]
  },
  {
   "cell_type": "code",
   "execution_count": null,
   "id": "319aca18",
   "metadata": {},
   "outputs": [],
   "source": []
  }
 ],
 "metadata": {
  "kernelspec": {
   "display_name": "Python 3 (ipykernel)",
   "language": "python",
   "name": "python3"
  },
  "language_info": {
   "codemirror_mode": {
    "name": "ipython",
    "version": 3
   },
   "file_extension": ".py",
   "mimetype": "text/x-python",
   "name": "python",
   "nbconvert_exporter": "python",
   "pygments_lexer": "ipython3",
   "version": "3.10.9"
  }
 },
 "nbformat": 4,
 "nbformat_minor": 5
}
