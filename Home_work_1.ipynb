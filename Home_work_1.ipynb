{
 "cells": [
  {
   "cell_type": "markdown",
   "id": "dbcea303",
   "metadata": {},
   "source": [
    "## 1. Из колоды в 52 карты извлекаются случайным образом 4 карты. a) Найти вероятность того, что все карты – крести. б) Найти вероятность, что среди 4-х карт окажется хотя бы один туз."
   ]
  },
  {
   "cell_type": "code",
   "execution_count": 1,
   "id": "20bc08f6",
   "metadata": {},
   "outputs": [],
   "source": [
    "N = 52\n",
    "x = 4\n",
    "C = 13 ## Количество крести "
   ]
  },
  {
   "cell_type": "markdown",
   "id": "7039b8be",
   "metadata": {},
   "source": [
    "а)Находим вероятность того что все карты крести следующим образом: колчество успешных вариантов (4 карт из колоды в 13)делим на количество неудачных вариантов (4) карты из 52) согласно формуле ниже"
   ]
  },
  {
   "cell_type": "code",
   "execution_count": 2,
   "id": "2b5e0f68",
   "metadata": {},
   "outputs": [],
   "source": [
    "from math import factorial as F"
   ]
  },
  {
   "cell_type": "code",
   "execution_count": 3,
   "id": "07e970d8",
   "metadata": {},
   "outputs": [
    {
     "name": "stdout",
     "output_type": "stream",
     "text": [
      "0.26410564225690275\n"
     ]
    }
   ],
   "source": [
    "K = (F(C)/(F(x)*F(C-x)))/(F(N)/(F(x)*F(N-x)))\n",
    "print(K*100)"
   ]
  },
  {
   "cell_type": "markdown",
   "id": "b621d07f",
   "metadata": {},
   "source": [
    "Ответ 0,264%"
   ]
  },
  {
   "cell_type": "markdown",
   "id": "323c5e0d",
   "metadata": {},
   "source": [
    "б) Сначала найдем количество комбинаций в которых не будет тузов - а это 4 карты из 48 (где нет тузов) делим на количество благоприятных событий (с тузами) 4 карты из 52 получаем"
   ]
  },
  {
   "cell_type": "code",
   "execution_count": 4,
   "id": "d79db236",
   "metadata": {},
   "outputs": [
    {
     "name": "stdout",
     "output_type": "stream",
     "text": [
      "0.7187367254594146\n"
     ]
    }
   ],
   "source": [
    "A = F(48)/(F(4)*F(48-4))/((F(52))/(F(4)*F(52-4)))\n",
    "print(A)"
   ]
  },
  {
   "cell_type": "markdown",
   "id": "392d9644",
   "metadata": {},
   "source": [
    "Противоположное событие - это 1 - А"
   ]
  },
  {
   "cell_type": "code",
   "execution_count": 5,
   "id": "91d5b110",
   "metadata": {},
   "outputs": [
    {
     "name": "stdout",
     "output_type": "stream",
     "text": [
      "28.12632745405854\n"
     ]
    }
   ],
   "source": [
    "X = (1 - A)*100\n",
    "print(X)"
   ]
  },
  {
   "cell_type": "markdown",
   "id": "38d06ff6",
   "metadata": {},
   "source": [
    "Ответ - 28,12%"
   ]
  },
  {
   "cell_type": "markdown",
   "id": "5949dfb3",
   "metadata": {},
   "source": [
    "Найдем остальное количество комбинаций"
   ]
  },
  {
   "cell_type": "code",
   "execution_count": 6,
   "id": "85880b3f",
   "metadata": {},
   "outputs": [
    {
     "name": "stdout",
     "output_type": "stream",
     "text": [
      "270725.0\n"
     ]
    }
   ],
   "source": [
    "B = F(52)/(F(48)*F(52-48))\n",
    "print(B)"
   ]
  },
  {
   "cell_type": "markdown",
   "id": "5b366ca5",
   "metadata": {},
   "source": [
    "### 2. На входной двери подъезда установлен кодовый замок, содержащий десять кнопок с цифрами от 0 до 9. Код содержит три цифры, которые нужно нажать одновременно. Какова вероятность того, что человек, не знающий код, откроет дверь с первой попытки?"
   ]
  },
  {
   "cell_type": "code",
   "execution_count": 7,
   "id": "3fab3d00",
   "metadata": {
    "scrolled": true
   },
   "outputs": [
    {
     "name": "stdout",
     "output_type": "stream",
     "text": [
      "0.1388888888888889\n"
     ]
    }
   ],
   "source": [
    "P=1/10*1/9*1/8\n",
    "print(P*100)"
   ]
  },
  {
   "cell_type": "markdown",
   "id": "b3405229",
   "metadata": {},
   "source": [
    "Ответ 0,138%"
   ]
  },
  {
   "cell_type": "markdown",
   "id": "d0d959b2",
   "metadata": {},
   "source": [
    "### 3. В ящике имеется 15 деталей, из которых 9 окрашены. Рабочий случайным образом извлекает 3 детали. Какова вероятность того, что все извлеченные детали окрашены?"
   ]
  },
  {
   "cell_type": "markdown",
   "id": "6f87b8ee",
   "metadata": {},
   "source": [
    "Вероятность составляет отношение количество вероятностей благоприятных (3 детали из 9ти) делим на количество вероятностей 3 детали из 15 по формуле ниже"
   ]
  },
  {
   "cell_type": "code",
   "execution_count": 8,
   "id": "d89288eb",
   "metadata": {},
   "outputs": [
    {
     "name": "stdout",
     "output_type": "stream",
     "text": [
      "18.461538461538463\n"
     ]
    }
   ],
   "source": [
    "P = (F(9))/(F(3)*F(9-3))/(F(15)/(F(3)*F(15-3)))\n",
    "print(P*100)"
   ]
  },
  {
   "cell_type": "markdown",
   "id": "d6d5ae3c",
   "metadata": {},
   "source": [
    "Ответ - 18,46%"
   ]
  },
  {
   "cell_type": "markdown",
   "id": "e4e90800",
   "metadata": {},
   "source": [
    "### 4. В лотерее 100 билетов. Из них 2 выигрышных. Какова вероятность того, что 2 приобретенных билета окажутся выигрышными?"
   ]
  },
  {
   "cell_type": "markdown",
   "id": "87a58d89",
   "metadata": {},
   "source": [
    "Вероятнос того что из 100 билетов будет 1 выигрышный составляет 1 к 100, а вероятность что следующий билет ббудет выигрышный составляте 1 к 99 следовательно перемножаем и получаем результат:"
   ]
  },
  {
   "cell_type": "code",
   "execution_count": 9,
   "id": "6a5d7ac8",
   "metadata": {},
   "outputs": [
    {
     "name": "stdout",
     "output_type": "stream",
     "text": [
      "0.0101010101010101\n"
     ]
    }
   ],
   "source": [
    "P = 1/100*1/99\n",
    "print(P*100)"
   ]
  },
  {
   "cell_type": "markdown",
   "id": "54c3bcb3",
   "metadata": {},
   "source": [
    "Ответ - 0,01%"
   ]
  },
  {
   "cell_type": "code",
   "execution_count": null,
   "id": "61d8a537",
   "metadata": {},
   "outputs": [],
   "source": []
  }
 ],
 "metadata": {
  "kernelspec": {
   "display_name": "Python 3 (ipykernel)",
   "language": "python",
   "name": "python3"
  },
  "language_info": {
   "codemirror_mode": {
    "name": "ipython",
    "version": 3
   },
   "file_extension": ".py",
   "mimetype": "text/x-python",
   "name": "python",
   "nbconvert_exporter": "python",
   "pygments_lexer": "ipython3",
   "version": "3.10.9"
  }
 },
 "nbformat": 4,
 "nbformat_minor": 5
}
