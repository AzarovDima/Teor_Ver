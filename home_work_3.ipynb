{
 "cells": [
  {
   "cell_type": "markdown",
   "id": "c9ff9158",
   "metadata": {},
   "source": [
    "### 1. Даны значения зарплат из выборки выпускников: 100, 80, 75, 77, 89, 33, 45, 25, 65, 17, 30, 24, 57, 55, 70, 75, 65, 84, 90, 150. Посчитать (желательно без использования статистических методов наподобие std, var, mean) среднее арифметическое, среднее квадратичное отклонение, смещенную и несмещенную оценки дисперсий для данной выборки."
   ]
  },
  {
   "cell_type": "markdown",
   "id": "4e3e48e6",
   "metadata": {},
   "source": [
    "Создадим список оценок lst"
   ]
  },
  {
   "cell_type": "code",
   "execution_count": 1,
   "id": "a0c0e0b6",
   "metadata": {},
   "outputs": [],
   "source": [
    "lst = [100, 80, 75, 77, 89, 33, 45, 25, 65, 17, 30, 230, 24, 57, 55, 70, 75, 65, 84, 90, 150]\n",
    "A = 0"
   ]
  },
  {
   "cell_type": "code",
   "execution_count": 2,
   "id": "df4dddac",
   "metadata": {},
   "outputs": [
    {
     "name": "stdout",
     "output_type": "stream",
     "text": [
      "Математическое ожидание = 73.14285714285714\n"
     ]
    }
   ],
   "source": [
    "for i in lst:\n",
    "    A = A + i\n",
    "MO = A/len(lst)\n",
    "print(\"Математическое ожидание =\", MO)"
   ]
  },
  {
   "cell_type": "code",
   "execution_count": 3,
   "id": "10a8f2fb",
   "metadata": {},
   "outputs": [
    {
     "name": "stdout",
     "output_type": "stream",
     "text": [
      "Квадратичное отклонение = 46.991676785094924\n"
     ]
    }
   ],
   "source": [
    "for i in lst:\n",
    "    A = A + ((i - MO)**2)\n",
    "QO = (A/len(lst))**0.5\n",
    "print(\"Квадратичное отклонение =\", QO)"
   ]
  },
  {
   "cell_type": "code",
   "execution_count": 4,
   "id": "b3880ca2",
   "metadata": {},
   "outputs": [
    {
     "name": "stdout",
     "output_type": "stream",
     "text": [
      "Смещенная дисперсия =  4343.292517006802\n",
      "Несмещенная дисперсия =  4560.457142857142\n"
     ]
    }
   ],
   "source": [
    "for i in lst:\n",
    "    A = A + ((i - MO)**2)\n",
    "D_biased = A/len(lst)\n",
    "D_unbiased = A/(len(lst)-1)\n",
    "print(\"Смещенная дисперсия = \", D_biased)\n",
    "print(\"Несмещенная дисперсия = \", D_unbiased)"
   ]
  },
  {
   "cell_type": "markdown",
   "id": "f3bb772e",
   "metadata": {},
   "source": [
    "### 2. В первом ящике находится 8 мячей, из которых 5 - белые. Во втором ящике - 12 мячей, из которых 5 белых. Из первого ящика вытаскивают случайным образом два мяча, из второго - 4. Какова вероятность того, что 3 мяча белые?"
   ]
  },
  {
   "cell_type": "code",
   "execution_count": null,
   "id": "12c95e0c",
   "metadata": {},
   "outputs": [],
   "source": []
  },
  {
   "cell_type": "code",
   "execution_count": null,
   "id": "7b80d491",
   "metadata": {},
   "outputs": [],
   "source": []
  },
  {
   "cell_type": "markdown",
   "id": "536ae9ea",
   "metadata": {},
   "source": [
    "### 3. На соревновании по биатлону один из трех спортсменов стреляет и попадает в мишень. Вероятность попадания для первого спортсмена равна 0.9, для второго — 0.8, для третьего — 0.6. Найти вероятность того, что выстрел произведен: a). первым спортсменом б). вторым спортсменом в). третьим спортсменом."
   ]
  },
  {
   "cell_type": "markdown",
   "id": "572db857",
   "metadata": {},
   "source": [
    "Вероятность попадания всех спортсменов равна All = 1/3 * 0.9 + 1/3 * 0.8 + 1/3 * 0.6"
   ]
  },
  {
   "cell_type": "code",
   "execution_count": 5,
   "id": "38545874",
   "metadata": {},
   "outputs": [
    {
     "name": "stdout",
     "output_type": "stream",
     "text": [
      "0.7666666666666666\n"
     ]
    }
   ],
   "source": [
    "All = 1/3 * 0.9 + 1/3 * 0.8 + 1/3 * 0.6\n",
    "print(All)"
   ]
  },
  {
   "cell_type": "code",
   "execution_count": 6,
   "id": "09b1d991",
   "metadata": {},
   "outputs": [
    {
     "data": {
      "text/plain": [
       "0.391304347826087"
      ]
     },
     "execution_count": 6,
     "metadata": {},
     "output_type": "execute_result"
    }
   ],
   "source": [
    "# 1 спортсмен\n",
    "(1/3*0.9)/All"
   ]
  },
  {
   "cell_type": "code",
   "execution_count": 7,
   "id": "d331603b",
   "metadata": {},
   "outputs": [
    {
     "data": {
      "text/plain": [
       "0.3478260869565218"
      ]
     },
     "execution_count": 7,
     "metadata": {},
     "output_type": "execute_result"
    }
   ],
   "source": [
    "# 2 спортсмен\n",
    "(1/3*0.8)/All"
   ]
  },
  {
   "cell_type": "code",
   "execution_count": 8,
   "id": "50dc31dc",
   "metadata": {},
   "outputs": [
    {
     "data": {
      "text/plain": [
       "0.2608695652173913"
      ]
     },
     "execution_count": 8,
     "metadata": {},
     "output_type": "execute_result"
    }
   ],
   "source": [
    "# 3 спортсмен\n",
    "(1/3*0.6)/All"
   ]
  },
  {
   "cell_type": "markdown",
   "id": "87a9eb70",
   "metadata": {},
   "source": [
    "### 4.  В университет на факультеты A и B поступило равное количество студентов, а на факультет C студентов поступило столько же, сколько на A и B вместе. Вероятность того, что студент факультета A сдаст первую сессию, равна 0.8. Для студента факультета B эта вероятность равна 0.7, а для студента факультета C - 0.9. Студент сдал первую сессию. Какова вероятность, что он учится: a). на факультете A б). на факультете B в). на факультете C?"
   ]
  },
  {
   "cell_type": "markdown",
   "id": "b0f7da8f",
   "metadata": {},
   "source": [
    "из условия ясно что на А и В учится по 1/4 всех студентов (0,25), а на С 1/2 (0,5).\n",
    "Чтобы оценить безусловную вероятность сдачи первой сессии, воспользуемся формулой полной вероятности:\n"
   ]
  },
  {
   "cell_type": "code",
   "execution_count": 9,
   "id": "d0c7470d",
   "metadata": {
    "scrolled": true
   },
   "outputs": [
    {
     "data": {
      "text/plain": [
       "0.825"
      ]
     },
     "execution_count": 9,
     "metadata": {},
     "output_type": "execute_result"
    }
   ],
   "source": [
    "0.25*0.8 + 0.25*0.7 + 0.5*0.9"
   ]
  },
  {
   "cell_type": "markdown",
   "id": "3aee907d",
   "metadata": {},
   "source": [
    "далее по формуле Байеса:"
   ]
  },
  {
   "cell_type": "code",
   "execution_count": 10,
   "id": "bf9dd596",
   "metadata": {},
   "outputs": [
    {
     "data": {
      "text/plain": [
       "0.24242424242424246"
      ]
     },
     "execution_count": 10,
     "metadata": {},
     "output_type": "execute_result"
    }
   ],
   "source": [
    "# на факультете A:\n",
    "0.25*0.8/0.825"
   ]
  },
  {
   "cell_type": "code",
   "execution_count": 11,
   "id": "61728494",
   "metadata": {},
   "outputs": [
    {
     "data": {
      "text/plain": [
       "0.21212121212121213"
      ]
     },
     "execution_count": 11,
     "metadata": {},
     "output_type": "execute_result"
    }
   ],
   "source": [
    "# на факультете В:\n",
    "0.25*0.7/0.825"
   ]
  },
  {
   "cell_type": "code",
   "execution_count": 12,
   "id": "a32efeba",
   "metadata": {},
   "outputs": [
    {
     "data": {
      "text/plain": [
       "0.5454545454545455"
      ]
     },
     "execution_count": 12,
     "metadata": {},
     "output_type": "execute_result"
    }
   ],
   "source": [
    "# на факультете С:\n",
    "0.5*0.9/0.825"
   ]
  },
  {
   "cell_type": "markdown",
   "id": "7598ca50",
   "metadata": {},
   "source": [
    "### 5. Устройство состоит из трех деталей. Для первой детали вероятность выйти из строя в первый месяц равна 0.1, для второй - 0.2, для третьей - 0.25. Какова вероятность того, что в первый месяц выйдут из строя: а). все детали б). только две детали в). хотя бы одна деталь г). от одной до двух деталей?"
   ]
  },
  {
   "cell_type": "code",
   "execution_count": 13,
   "id": "e152c0dc",
   "metadata": {},
   "outputs": [
    {
     "data": {
      "text/plain": [
       "0.006000000000000001"
      ]
     },
     "execution_count": 13,
     "metadata": {},
     "output_type": "execute_result"
    }
   ],
   "source": [
    "# Вероятность что выйдут все детали из строя сразу составляет:\n",
    "0.1*0.2*0.3"
   ]
  },
  {
   "cell_type": "markdown",
   "id": "35089363",
   "metadata": {},
   "source": [
    "Ответ - 0.6%"
   ]
  },
  {
   "cell_type": "code",
   "execution_count": 14,
   "id": "8c240633",
   "metadata": {},
   "outputs": [
    {
     "data": {
      "text/plain": [
       "0.09200000000000001"
      ]
     },
     "execution_count": 14,
     "metadata": {},
     "output_type": "execute_result"
    }
   ],
   "source": [
    "# Вероятность что выйдут только две детали составляет:\n",
    "(1-0.1)*0.2*0.3+0.1*(1-0.2)*0.3+0.1*0.2*(1-0.3)"
   ]
  },
  {
   "cell_type": "markdown",
   "id": "5676483d",
   "metadata": {},
   "source": [
    "Ответ - 9.2%"
   ]
  },
  {
   "cell_type": "code",
   "execution_count": 15,
   "id": "3d64f29d",
   "metadata": {},
   "outputs": [
    {
     "data": {
      "text/plain": [
       "0.496"
      ]
     },
     "execution_count": 15,
     "metadata": {},
     "output_type": "execute_result"
    }
   ],
   "source": [
    "# Вероятность что выйдет только одна деталь составляет:\n",
    "1-(1-0.1)*(1-0.2)*(1-0.3)"
   ]
  },
  {
   "cell_type": "markdown",
   "id": "1ed4751d",
   "metadata": {},
   "source": [
    "Ответ - 49.6%"
   ]
  },
  {
   "cell_type": "code",
   "execution_count": 16,
   "id": "1c9b25d2",
   "metadata": {},
   "outputs": [
    {
     "data": {
      "text/plain": [
       "0.398"
      ]
     },
     "execution_count": 16,
     "metadata": {},
     "output_type": "execute_result"
    }
   ],
   "source": [
    "# Вероятность что выйдет от одной до двух деталей составляет:\n",
    "0.1*(1-0.2)*(1-0.3)+0.2*(1-0.1)*(1-0.3)+0.3*(1-0.1)*(1-0.2)"
   ]
  },
  {
   "cell_type": "code",
   "execution_count": 17,
   "id": "2c951913",
   "metadata": {},
   "outputs": [
    {
     "ename": "SyntaxError",
     "evalue": "invalid syntax (2776062058.py, line 1)",
     "output_type": "error",
     "traceback": [
      "\u001b[1;36m  Cell \u001b[1;32mIn[17], line 1\u001b[1;36m\u001b[0m\n\u001b[1;33m    Ответ - 39.8%\u001b[0m\n\u001b[1;37m                 ^\u001b[0m\n\u001b[1;31mSyntaxError\u001b[0m\u001b[1;31m:\u001b[0m invalid syntax\n"
     ]
    }
   ],
   "source": [
    "Ответ - 39.8%"
   ]
  }
 ],
 "metadata": {
  "kernelspec": {
   "display_name": "Python 3 (ipykernel)",
   "language": "python",
   "name": "python3"
  },
  "language_info": {
   "codemirror_mode": {
    "name": "ipython",
    "version": 3
   },
   "file_extension": ".py",
   "mimetype": "text/x-python",
   "name": "python",
   "nbconvert_exporter": "python",
   "pygments_lexer": "ipython3",
   "version": "3.10.9"
  }
 },
 "nbformat": 4,
 "nbformat_minor": 5
}
